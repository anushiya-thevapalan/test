{
  "nbformat": 4,
  "nbformat_minor": 0,
  "metadata": {
    "colab": {
      "name": "IMDB_Sentimental_Analysis",
      "provenance": [],
      "collapsed_sections": [],
      "toc_visible": true,
      "include_colab_link": true
    },
    "kernelspec": {
      "display_name": "Python 3",
      "name": "python3"
    }
  },
  "cells": [
    {
      "cell_type": "markdown",
      "metadata": {
        "id": "view-in-github",
        "colab_type": "text"
      },
      "source": [
        "<a href=\"https://colab.research.google.com/github/anushiya-thevapalan/test/blob/master/IMDB_Sentimental_Analysis.ipynb\" target=\"_parent\"><img src=\"https://colab.research.google.com/assets/colab-badge.svg\" alt=\"Open In Colab\"/></a>"
      ]
    },
    {
      "cell_type": "markdown",
      "metadata": {
        "colab_type": "text",
        "id": "QXRh0DPiZRyG"
      },
      "source": [
        "# Download the needed Files\n",
        "\n",
        "In order to work on this notebook we need to download 2 files. \n",
        "\n",
        "1.   Glove word embedding\n",
        "2.   Dataset\n",
        "\n",
        "\n",
        "## Glove word embedding\n",
        "GloVe is an unsupervised learning algorithm for obtaining vector representations for words. Training is performed on aggregated global word-word co-occurrence statistics from a corpus, and the resulting representations showcase interesting linear substructures of the word vector space.\n",
        "\n",
        "http://nlp.stanford.edu/data/glove.6B.zip\n",
        "\n",
        "\n",
        "## Large Movie Review Dataset\n",
        "This is a dataset for binary sentiment classification containing substantially more data than previous benchmark datasets. We provide a set of 25,000 highly polar movie reviews for training, and 25,000 for testing. There is additional unlabeled data for use as well. Raw text and already processed bag of words formats are provided. See the README file contained in the release for more details. \n",
        "\n",
        "http://ai.stanford.edu/~amaas/data/sentiment/aclImdb_v1.tar.gz\n",
        "\n",
        "\n"
      ]
    },
    {
      "cell_type": "markdown",
      "metadata": {
        "id": "ISwmLX4caN-a",
        "colab_type": "text"
      },
      "source": [
        "**Download Glove word embedding**"
      ]
    },
    {
      "cell_type": "code",
      "metadata": {
        "id": "QTVJB3BUOZho",
        "colab_type": "code",
        "colab": {
          "base_uri": "https://localhost:8080/",
          "height": 296
        },
        "outputId": "0d62305c-6ff4-4806-83de-25920a208ade"
      },
      "source": [
        "!wget http://nlp.stanford.edu/data/glove.6B.zip"
      ],
      "execution_count": null,
      "outputs": [
        {
          "output_type": "stream",
          "text": [
            "--2019-03-01 13:31:15--  http://nlp.stanford.edu/data/glove.6B.zip\n",
            "Resolving nlp.stanford.edu (nlp.stanford.edu)... 171.64.67.140\n",
            "Connecting to nlp.stanford.edu (nlp.stanford.edu)|171.64.67.140|:80... connected.\n",
            "HTTP request sent, awaiting response... 302 Found\n",
            "Location: https://nlp.stanford.edu/data/glove.6B.zip [following]\n",
            "--2019-03-01 13:31:15--  https://nlp.stanford.edu/data/glove.6B.zip\n",
            "Connecting to nlp.stanford.edu (nlp.stanford.edu)|171.64.67.140|:443... connected.\n",
            "HTTP request sent, awaiting response... 200 OK\n",
            "Length: 862182613 (822M) [application/zip]\n",
            "Saving to: ‘glove.6B.zip’\n",
            "\n",
            "glove.6B.zip        100%[===================>] 822.24M  37.6MB/s    in 32s     \n",
            "\n",
            "2019-03-01 13:31:47 (25.7 MB/s) - ‘glove.6B.zip’ saved [862182613/862182613]\n",
            "\n"
          ],
          "name": "stdout"
        }
      ]
    },
    {
      "cell_type": "markdown",
      "metadata": {
        "id": "QuKv63zZZ6Xb",
        "colab_type": "text"
      },
      "source": [
        "**Unzip the glove.6B.zip**"
      ]
    },
    {
      "cell_type": "code",
      "metadata": {
        "id": "raY-mPAhPWKv",
        "colab_type": "code",
        "colab": {
          "base_uri": "https://localhost:8080/",
          "height": 110
        },
        "outputId": "6d1bef4c-f852-4e78-ea69-e799a2b5c849"
      },
      "source": [
        "!unzip glove*.zip"
      ],
      "execution_count": null,
      "outputs": [
        {
          "output_type": "stream",
          "text": [
            "Archive:  glove.6B.zip\n",
            "  inflating: glove.6B.50d.txt        \n",
            "  inflating: glove.6B.100d.txt       \n",
            "  inflating: glove.6B.200d.txt       \n",
            "  inflating: glove.6B.300d.txt       \n"
          ],
          "name": "stdout"
        }
      ]
    },
    {
      "cell_type": "markdown",
      "metadata": {
        "id": "ry3ihk31aXnj",
        "colab_type": "text"
      },
      "source": [
        "Download  Movie Review Dataset"
      ]
    },
    {
      "cell_type": "code",
      "metadata": {
        "id": "_0ScBi3TTfsH",
        "colab_type": "code",
        "colab": {
          "base_uri": "https://localhost:8080/",
          "height": 221
        },
        "outputId": "3e411ebc-ef6f-42c5-fd07-306930d1996f"
      },
      "source": [
        "!wget http://ai.stanford.edu/~amaas/data/sentiment/aclImdb_v1.tar.gz"
      ],
      "execution_count": null,
      "outputs": [
        {
          "output_type": "stream",
          "text": [
            "--2019-03-01 13:33:25--  http://ai.stanford.edu/~amaas/data/sentiment/aclImdb_v1.tar.gz\n",
            "Resolving ai.stanford.edu (ai.stanford.edu)... 171.64.68.10\n",
            "Connecting to ai.stanford.edu (ai.stanford.edu)|171.64.68.10|:80... connected.\n",
            "HTTP request sent, awaiting response... 200 OK\n",
            "Length: 84125825 (80M) [application/x-gzip]\n",
            "Saving to: ‘aclImdb_v1.tar.gz’\n",
            "\n",
            "aclImdb_v1.tar.gz   100%[===================>]  80.23M  12.9MB/s    in 5.3s    \n",
            "\n",
            "2019-03-01 13:33:31 (15.1 MB/s) - ‘aclImdb_v1.tar.gz’ saved [84125825/84125825]\n",
            "\n"
          ],
          "name": "stdout"
        }
      ]
    },
    {
      "cell_type": "markdown",
      "metadata": {
        "id": "fPpkcoTHamx7",
        "colab_type": "text"
      },
      "source": [
        "**Unzip the Files**"
      ]
    },
    {
      "cell_type": "code",
      "metadata": {
        "id": "94ANz-YZUI9n",
        "colab_type": "code",
        "colab": {}
      },
      "source": [
        "!tar xf aclImdb_v1.tar.gz"
      ],
      "execution_count": null,
      "outputs": []
    },
    {
      "cell_type": "markdown",
      "metadata": {
        "id": "voTTeYMpa8kb",
        "colab_type": "text"
      },
      "source": [
        "**Importing required libraries**"
      ]
    },
    {
      "cell_type": "code",
      "metadata": {
        "id": "fsR1wnARX2Gg",
        "colab_type": "code",
        "colab": {
          "base_uri": "https://localhost:8080/",
          "height": 36
        },
        "outputId": "0ddae1ac-475e-452d-91da-1393a5919b3c"
      },
      "source": [
        "import os\n",
        "import re\n",
        "import string\n",
        "import numpy as np\n",
        "from keras import Model\n",
        "from keras.utils import to_categorical, plot_model\n",
        "from keras.layers import Dense, Input, Dropout, LSTM, Activation, concatenate, Bidirectional\n",
        "from keras.layers.embeddings import Embedding\n",
        "import matplotlib.pyplot as plt"
      ],
      "execution_count": null,
      "outputs": [
        {
          "output_type": "stream",
          "text": [
            "Using TensorFlow backend.\n"
          ],
          "name": "stderr"
        }
      ]
    },
    {
      "cell_type": "markdown",
      "metadata": {
        "id": "rEoDW40DbX06",
        "colab_type": "text"
      },
      "source": [
        "**Setting the max length**"
      ]
    },
    {
      "cell_type": "code",
      "metadata": {
        "id": "YlfbZFTpa7Ig",
        "colab_type": "code",
        "colab": {}
      },
      "source": [
        "maxLen = 200"
      ],
      "execution_count": null,
      "outputs": []
    },
    {
      "cell_type": "markdown",
      "metadata": {
        "id": "UKeuepmxblqa",
        "colab_type": "text"
      },
      "source": [
        "**Load the data**"
      ]
    },
    {
      "cell_type": "code",
      "metadata": {
        "id": "3zS0tMLWbay5",
        "colab_type": "code",
        "colab": {}
      },
      "source": [
        "def loadData():\n",
        "    # load File names\n",
        "    trainPosFiles = os.listdir(\"./aclImdb/train/pos\")\n",
        "    trainNegFiles = os.listdir(\"./aclImdb/train/neg\")\n",
        "    testPosFiles = os.listdir(\"./aclImdb/test/pos\")\n",
        "    testNegFiles = os.listdir(\"./aclImdb/test/neg\")\n",
        "\n",
        "    #load positive, negative files from the directory\n",
        "\n",
        "    trainPos = []\n",
        "    trainNeg = []\n",
        "    testPos = []\n",
        "    testNeg = []\n",
        "\n",
        "    for i in range(len(trainPosFiles)):\n",
        "        with open(\"./aclImdb/train/pos/\" + trainPosFiles[i], \"r\") as myfile:\n",
        "            # Lower the text, preprocess the text\n",
        "            line = preprocess((myfile.readlines()[0]).lower())\n",
        "            trainPos.append(line)\n",
        "\n",
        "    for i in range(len(trainNegFiles)):\n",
        "        with open(\"./aclImdb/train/neg/\" + trainNegFiles[i], \"r\") as myfile:\n",
        "            # Lower the text, preprocess the text\n",
        "            line = preprocess((myfile.readlines()[0]).lower())\n",
        "            trainNeg.append(line)\n",
        "\n",
        "    for i in range(len(trainPosFiles)):\n",
        "        with open(\"./aclImdb/test/pos/\" + testPosFiles[i], \"r\") as myfile:\n",
        "            # Lower the text, preprocess the text\n",
        "            line = preprocess((myfile.readlines()[0]).lower())\n",
        "            testPos.append(line)\n",
        "\n",
        "    for i in range(len(trainNegFiles)):\n",
        "        with open(\"./aclImdb/test/neg/\" + testNegFiles[i], \"r\") as myfile:\n",
        "            # Lower the text, preprocess the text\n",
        "            line = preprocess((myfile.readlines()[0]).lower())\n",
        "            testNeg.append(line)\n",
        "\n",
        "    #merge Positive and Negative Datasets\n",
        "    trainX = trainPos + trainNeg\n",
        "    testX = testPos + testNeg\n",
        "\n",
        "    #preparing the labels for the dataset and  onehot encode\n",
        "    trainY = to_categorical([1 if i < len(trainPos) else 0 for i in range(len(trainX))],num_classes=2)\n",
        "    testY = to_categorical([1 if i < len(testPos) else 0 for i in range(len(testX))],num_classes=2)\n",
        "\n",
        "    return np.array(trainX), np.array(trainY), np.array(testX), np.array(testY)"
      ],
      "execution_count": null,
      "outputs": []
    },
    {
      "cell_type": "markdown",
      "metadata": {
        "id": "L1aPnJITby6M",
        "colab_type": "text"
      },
      "source": [
        " **Preprocess text**"
      ]
    },
    {
      "cell_type": "code",
      "metadata": {
        "id": "ig6YwzmDbtpf",
        "colab_type": "code",
        "colab": {}
      },
      "source": [
        "#Function to preprocess the text\n",
        "def preprocess(txt):\n",
        "    def removeHTML(txt):\n",
        "        #remove the Html in the text\n",
        "        pattern = r'(<(?P<tag>[a-zA-Z0-9]+)>.*?</(?P=tag)>)'\n",
        "        return re.sub(pattern, ' ', txt, flags=re.MULTILINE)\n",
        "\n",
        "    def removeXml(txt):\n",
        "        # remove the XML in the text\n",
        "        pattern = r'/[a-zA-Z-_/]*\\.xml'\n",
        "        return re.sub(pattern, ' ', txt, flags=re.MULTILINE)\n",
        "\n",
        "    def removeContinousFullstops(txt):\n",
        "        # remove the Continous fullstop Eg: \"......\" with one fullstop.\n",
        "        return re.sub('\\.\\.+', ' . ', txt,flags=re.MULTILINE)\n",
        "\n",
        "    def removeNumbers(txt):\n",
        "        # Remove the digits .\n",
        "        pattern = r'\\d+'\n",
        "        return re.sub(pattern, ' . ', txt, flags=re.MULTILINE)\n",
        "\n",
        "    def removePunctuationwithoutdot(txt):\n",
        "        remove = string.punctuation\n",
        "        remove = remove.replace(\".\", \"\")  # don't remove hyphens\n",
        "        pattern = r\"[{}]\".format(remove)  # create the pattern\n",
        "        return  re.sub(pattern, \"\", txt)\n",
        "\n",
        "    txt=removeHTML(txt)\n",
        "    txt =removeXml(txt)\n",
        "    txt =removeContinousFullstops(txt)\n",
        "    txt =removeNumbers(txt)\n",
        "    txt =removePunctuationwithoutdot(txt)\n",
        "    return txt"
      ],
      "execution_count": null,
      "outputs": []
    },
    {
      "cell_type": "markdown",
      "metadata": {
        "id": "fg61CYEPb5z7",
        "colab_type": "text"
      },
      "source": [
        "**Load the training and testing samples**"
      ]
    },
    {
      "cell_type": "code",
      "metadata": {
        "id": "Z6iSGHwGb4fH",
        "colab_type": "code",
        "colab": {}
      },
      "source": [
        "trainX, trainY, testX, testY = loadData()"
      ],
      "execution_count": null,
      "outputs": []
    },
    {
      "cell_type": "code",
      "metadata": {
        "id": "ppCcANAMcBNn",
        "colab_type": "code",
        "colab": {
          "base_uri": "https://localhost:8080/",
          "height": 52
        },
        "outputId": "8fd4d389-b1f1-4b4b-8173-a206b985d975"
      },
      "source": [
        "print(\"Number of training samples : \", len(trainY))\n",
        "print(\"Number of testing samples : \", len(trainY))"
      ],
      "execution_count": null,
      "outputs": [
        {
          "output_type": "stream",
          "text": [
            "Number of training samples :  25000\n",
            "Number of testing samples :  25000\n"
          ],
          "name": "stdout"
        }
      ]
    },
    {
      "cell_type": "markdown",
      "metadata": {
        "id": "Wh_W-w4hcmou",
        "colab_type": "text"
      },
      "source": [
        "**Load the Glove Vectors**"
      ]
    },
    {
      "cell_type": "code",
      "metadata": {
        "id": "TQgR1C1lcPqt",
        "colab_type": "code",
        "colab": {
          "base_uri": "https://localhost:8080/",
          "height": 34
        },
        "outputId": "118af508-b3a2-4184-8d05-618c5cfc1f67"
      },
      "source": [
        "# Function to read the Glove word embedding\n",
        "def read_glove_vecs(glove_file):\n",
        "    with open(glove_file, 'r') as f:\n",
        "        words = set()\n",
        "        word_to_vec_map = {}\n",
        "        for line in f:\n",
        "            line = line.strip().split()\n",
        "            curr_word = line[0]\n",
        "            words.add(curr_word)\n",
        "            word_to_vec_map[curr_word] = np.array(line[1:], dtype=np.float64)\n",
        "\n",
        "        i = 1\n",
        "        words_to_index = {}\n",
        "        index_to_words = {}\n",
        "        for w in sorted(words):\n",
        "            words_to_index[w] = i\n",
        "            index_to_words[i] = w\n",
        "            i = i + 1\n",
        "    return words_to_index, index_to_words, word_to_vec_map\n",
        "\n",
        "\n",
        "print(\"Loading Glove Vectors...\")\n",
        "word_to_index, index_to_word, word_to_vec_map = read_glove_vecs('glove.6B.200d.txt')"
      ],
      "execution_count": null,
      "outputs": [
        {
          "output_type": "stream",
          "text": [
            "Loading Glove Vectors...\n"
          ],
          "name": "stdout"
        }
      ]
    },
    {
      "cell_type": "markdown",
      "metadata": {
        "id": "ZFewz_yQc_cn",
        "colab_type": "text"
      },
      "source": [
        "**Function to convert sentences_to_indices**"
      ]
    },
    {
      "cell_type": "code",
      "metadata": {
        "id": "NaZY8XJDcqR5",
        "colab_type": "code",
        "colab": {}
      },
      "source": [
        "#function to convert sentences_to_indices\n",
        "\n",
        "def sentences_to_indices(X, word_to_index, max_len):\n",
        "    \"\"\"\n",
        "    Converts an array of sentences (strings) into an array of indices corresponding to words in the sentences.\n",
        "    The output shape should be such that it can be given to `Embedding()` (described in Figure 4).\n",
        "\n",
        "    Arguments:\n",
        "    X -- array of sentences (strings), of shape (m, 1)\n",
        "    word_to_index -- a dictionary containing the each word mapped to its index\n",
        "    max_len -- maximum number of words in a sentence. You can assume every sentence in X is no longer than this.\n",
        "\n",
        "    Returns:\n",
        "    X_indices -- array of indices corresponding to words in the sentences from X, of shape (m, max_len)\n",
        "    \"\"\"\n",
        "\n",
        "    m = X.shape[0]  # number of training examples\n",
        "\n",
        "    # Initialize X_indices as a numpy matrix of zeros and the correct shape (≈ 1 line)\n",
        "    X_indices = np.zeros((m, max_len))\n",
        "\n",
        "    for i in range(m):  # loop over training examples\n",
        "\n",
        "        # Convert the ith training sentence in lower case and split is into words. You should get a list of words.\n",
        "        sentence_words = [w.lower() for w in X[i].split()]\n",
        "\n",
        "        # Initialize j to 0\n",
        "        j = 0\n",
        "\n",
        "        # Loop over the words of sentence_words\n",
        "        for w in sentence_words:\n",
        "            # Set the (i,j)th entry of X_indices to the index of the correct word.\n",
        "\n",
        "            try:\n",
        "                X_indices[i, j] = word_to_index[w]\n",
        "            except Exception as e:\n",
        "                X_indices[i, j] = 0\n",
        "\n",
        "            # Increment j to j + 1\n",
        "            j += 1\n",
        "            if j == 199:\n",
        "                break\n",
        "\n",
        "    return X_indices"
      ],
      "execution_count": null,
      "outputs": []
    },
    {
      "cell_type": "markdown",
      "metadata": {
        "id": "hJPnJZq7dLAP",
        "colab_type": "text"
      },
      "source": [
        "**Make Embedding Layer**"
      ]
    },
    {
      "cell_type": "code",
      "metadata": {
        "id": "Iu9CL7aNc8HP",
        "colab_type": "code",
        "colab": {}
      },
      "source": [
        "# pretrained_embedding_layer\n",
        "\n",
        "def pretrained_embedding_layer(word_to_vec_map, word_to_index):\n",
        "    \"\"\"\n",
        "    Creates a Keras Embedding() layer and loads in pre-trained GloVe 50-dimensional vectors.\n",
        "\n",
        "    Arguments:\n",
        "    word_to_vec_map -- dictionary mapping words to their GloVe vector representation.\n",
        "    word_to_index -- dictionary mapping from words to their indices in the vocabulary (400,001 words)\n",
        "\n",
        "    Returns:\n",
        "    embedding_layer -- pretrained layer Keras instance\n",
        "    \"\"\"\n",
        "\n",
        "    vocab_len = len(word_to_index) + 1  # adding 1 to fit Keras embedding (requirement)\n",
        "    emb_dim = word_to_vec_map[\"cucumber\"].shape[0]  # define dimensionality of your GloVe word vectors (= 50)\n",
        "\n",
        "    ### START CODE HERE ###\n",
        "    # Initialize the embedding matrix as a numpy array of zeros of shape (vocab_len, dimensions of word vectors = emb_dim)\n",
        "    emb_matrix = np.zeros((vocab_len, emb_dim))\n",
        "\n",
        "    # Set each row \"index\" of the embedding matrix to be the word vector representation of the \"index\"th word of the vocabulary\n",
        "    for word, index in word_to_index.items():\n",
        "        emb_matrix[index, :] = word_to_vec_map[word]\n",
        "\n",
        "    # Define Keras embedding layer with the correct output/input sizes, make it trainable. Use Embedding(...). Make sure to set trainable=False.\n",
        "    embedding_layer = Embedding(vocab_len, emb_dim, trainable=False)\n",
        "    ### END CODE HERE ###\n",
        "\n",
        "    # Build the embedding layer, it is required before setting the weights of the embedding layer. Do not modify the \"None\".\n",
        "    embedding_layer.build((None,))\n",
        "\n",
        "    # Set the weights of the embedding layer to the embedding matrix. Your layer is now pretrained.\n",
        "    embedding_layer.set_weights([emb_matrix])\n",
        "\n",
        "    return embedding_layer\n"
      ],
      "execution_count": null,
      "outputs": []
    },
    {
      "cell_type": "markdown",
      "metadata": {
        "id": "osSFkgpddWzt",
        "colab_type": "text"
      },
      "source": [
        "**Build The Model**"
      ]
    },
    {
      "cell_type": "code",
      "metadata": {
        "id": "VzKYZ6B8dOLL",
        "colab_type": "code",
        "colab": {}
      },
      "source": [
        "#buildModel\n",
        "\n",
        "def buildModel(input_shape, word_to_vec_map, word_to_index):\n",
        "    \"\"\"\n",
        "    Arguments:\n",
        "    input_shape -- shape of the input, usually (max_len,)\n",
        "    word_to_vec_map -- dictionary mapping every word in a vocabulary into its 50-dimensional vector representation\n",
        "    word_to_index -- dictionary mapping from words to their indices in the vocabulary (400,001 words)\n",
        "\n",
        "    Returns:\n",
        "    model -- a model instance in Keras\n",
        "    \"\"\"\n",
        "\n",
        "    # Define sentence_indices as the input of the graph, it should be of shape input_shape and dtype 'int32' (as it contains indices).\n",
        "    sentence_indices = Input(input_shape, dtype='int32')\n",
        "\n",
        "    # Create the embedding layer pretrained with GloVe Vectors (≈1 line)\n",
        "    embedding_layer = pretrained_embedding_layer(word_to_vec_map, word_to_index)\n",
        "\n",
        "    # Propagate sentence_indices through your embedding layer, you get back the embeddings\n",
        "    embeddings = embedding_layer(sentence_indices)\n",
        "\n",
        "    # Propagate the embeddings through an LSTM layer with 128-dimensional hidden state\n",
        "    # Be careful, the returned output should be a batch of sequences.\n",
        "    X = Bidirectional(LSTM(128, return_sequences=True))(embeddings)\n",
        "\n",
        "    # Add dropout with a probability of 0.5\n",
        "    X = Dropout(0.2)(X)\n",
        "    X = Bidirectional(LSTM(128, return_sequences=False))(X)\n",
        "    # Add dropout with a probability of 0.5\n",
        "    X = Dropout(0.2)(X)\n",
        "    # Propagate X through a Dense layer with softmax activation to get back a batch of 5-dimensional vectors.\n",
        "    X = Dense(2)(X)\n",
        "    # Add a softmax activation\n",
        "    X = Activation('softmax')(X)\n",
        "\n",
        "    # Create Model instance which converts sentence_indices into X.\n",
        "    model = Model(inputs=sentence_indices, outputs=X)\n",
        "\n",
        "    return model"
      ],
      "execution_count": null,
      "outputs": []
    },
    {
      "cell_type": "markdown",
      "metadata": {
        "id": "X75phluIdiRp",
        "colab_type": "text"
      },
      "source": [
        "**MOdel Summary**"
      ]
    },
    {
      "cell_type": "code",
      "metadata": {
        "id": "JD2EIaFQdZvG",
        "colab_type": "code",
        "colab": {
          "base_uri": "https://localhost:8080/",
          "height": 434
        },
        "outputId": "84c251a9-a1ac-47f3-933e-b659a5a4dfb5"
      },
      "source": [
        "print(\"Building The Model...\")\n",
        "model = buildModel((maxLen,), word_to_vec_map, word_to_index)\n",
        "model.summary()\n",
        "plot_model(model, to_file='model_plot.png', show_shapes=True, show_layer_names=True)\n",
        "\n"
      ],
      "execution_count": null,
      "outputs": [
        {
          "output_type": "stream",
          "text": [
            "Building The Model...\n",
            "_________________________________________________________________\n",
            "Layer (type)                 Output Shape              Param #   \n",
            "=================================================================\n",
            "input_2 (InputLayer)         (None, 200)               0         \n",
            "_________________________________________________________________\n",
            "embedding_2 (Embedding)      (None, 200, 200)          80000200  \n",
            "_________________________________________________________________\n",
            "bidirectional_3 (Bidirection (None, 200, 256)          336896    \n",
            "_________________________________________________________________\n",
            "dropout_3 (Dropout)          (None, 200, 256)          0         \n",
            "_________________________________________________________________\n",
            "bidirectional_4 (Bidirection (None, 256)               394240    \n",
            "_________________________________________________________________\n",
            "dropout_4 (Dropout)          (None, 256)               0         \n",
            "_________________________________________________________________\n",
            "dense_2 (Dense)              (None, 2)                 514       \n",
            "_________________________________________________________________\n",
            "activation_2 (Activation)    (None, 2)                 0         \n",
            "=================================================================\n",
            "Total params: 80,731,850\n",
            "Trainable params: 731,650\n",
            "Non-trainable params: 80,000,200\n",
            "_________________________________________________________________\n"
          ],
          "name": "stdout"
        }
      ]
    },
    {
      "cell_type": "markdown",
      "metadata": {
        "id": "HQAou3hqedrB",
        "colab_type": "text"
      },
      "source": [
        "**Train the Model**"
      ]
    },
    {
      "cell_type": "code",
      "metadata": {
        "id": "eWKVL77hdrii",
        "colab_type": "code",
        "colab": {
          "base_uri": "https://localhost:8080/",
          "height": 1114
        },
        "outputId": "2b3c1228-90d4-4e6b-a324-7439b19b33f1"
      },
      "source": [
        "model.compile(loss='binary_crossentropy', optimizer='adam', metrics=['accuracy'])\n",
        "X_train_indices = sentences_to_indices(trainX, word_to_index, maxLen)\n",
        "history=model.fit(X_train_indices, trainY,validation_split=0.1, epochs=40 ,batch_size=50 , shuffle=True)"
      ],
      "execution_count": null,
      "outputs": [
        {
          "output_type": "stream",
          "text": [
            "WARNING:tensorflow:From /usr/local/lib/python3.6/dist-packages/tensorflow/python/ops/math_ops.py:3066: to_int32 (from tensorflow.python.ops.math_ops) is deprecated and will be removed in a future version.\n",
            "Instructions for updating:\n",
            "Use tf.cast instead.\n",
            "Train on 22500 samples, validate on 2500 samples\n",
            "Epoch 1/40\n",
            "22500/22500 [==============================] - 1142s 51ms/step - loss: 0.5746 - acc: 0.6936 - val_loss: 0.5505 - val_acc: 0.7796\n",
            "Epoch 2/40\n",
            "22500/22500 [==============================] - 1140s 51ms/step - loss: 0.4341 - acc: 0.8023 - val_loss: 0.3675 - val_acc: 0.8424\n",
            "Epoch 3/40\n",
            "22500/22500 [==============================] - 1134s 50ms/step - loss: 0.3656 - acc: 0.8409 - val_loss: 0.2728 - val_acc: 0.8744\n",
            "Epoch 4/40\n",
            "22500/22500 [==============================] - 1138s 51ms/step - loss: 0.3313 - acc: 0.8580 - val_loss: 0.3429 - val_acc: 0.8728\n",
            "Epoch 5/40\n",
            "22500/22500 [==============================] - 1132s 50ms/step - loss: 0.3076 - acc: 0.8688 - val_loss: 0.4985 - val_acc: 0.7724\n",
            "Epoch 6/40\n",
            "22500/22500 [==============================] - 1134s 50ms/step - loss: 0.2808 - acc: 0.8826 - val_loss: 0.4470 - val_acc: 0.8072\n",
            "Epoch 7/40\n",
            "22500/22500 [==============================] - 1135s 50ms/step - loss: 0.2476 - acc: 0.8994 - val_loss: 0.3526 - val_acc: 0.8496\n",
            "Epoch 8/40\n",
            "22500/22500 [==============================] - 1133s 50ms/step - loss: 0.2103 - acc: 0.9148 - val_loss: 0.2869 - val_acc: 0.8872\n",
            "Epoch 9/40\n",
            "22500/22500 [==============================] - 1131s 50ms/step - loss: 0.1766 - acc: 0.9335 - val_loss: 0.4188 - val_acc: 0.8376\n",
            "Epoch 10/40\n",
            "22500/22500 [==============================] - 1126s 50ms/step - loss: 0.1336 - acc: 0.9508 - val_loss: 0.2234 - val_acc: 0.9100\n",
            "Epoch 11/40\n",
            "22500/22500 [==============================] - 1125s 50ms/step - loss: 0.0988 - acc: 0.9650 - val_loss: 0.6317 - val_acc: 0.7884\n",
            "Epoch 12/40\n",
            "22500/22500 [==============================] - 1125s 50ms/step - loss: 0.0730 - acc: 0.9752 - val_loss: 0.5433 - val_acc: 0.8424\n",
            "Epoch 13/40\n",
            "22500/22500 [==============================] - 1135s 50ms/step - loss: 0.0551 - acc: 0.9819 - val_loss: 0.8778 - val_acc: 0.7860\n",
            "Epoch 14/40\n",
            "22500/22500 [==============================] - 1138s 51ms/step - loss: 0.0470 - acc: 0.9841 - val_loss: 0.7125 - val_acc: 0.8296\n",
            "Epoch 15/40\n",
            "22500/22500 [==============================] - 1131s 50ms/step - loss: 0.0425 - acc: 0.9856 - val_loss: 0.8059 - val_acc: 0.8252\n",
            "Epoch 16/40\n",
            "22500/22500 [==============================] - 1132s 50ms/step - loss: 0.0354 - acc: 0.9884 - val_loss: 0.6889 - val_acc: 0.8556\n",
            "Epoch 17/40\n",
            "22500/22500 [==============================] - 1138s 51ms/step - loss: 0.0297 - acc: 0.9894 - val_loss: 0.9508 - val_acc: 0.8008\n",
            "Epoch 18/40\n",
            "22500/22500 [==============================] - 1133s 50ms/step - loss: 0.0247 - acc: 0.9920 - val_loss: 1.0256 - val_acc: 0.7924\n",
            "Epoch 19/40\n",
            "22500/22500 [==============================] - 1139s 51ms/step - loss: 0.0250 - acc: 0.9921 - val_loss: 0.9111 - val_acc: 0.8244\n",
            "Epoch 20/40\n",
            "22500/22500 [==============================] - 1143s 51ms/step - loss: 0.0267 - acc: 0.9906 - val_loss: 0.8871 - val_acc: 0.8336\n",
            "Epoch 21/40\n",
            "22500/22500 [==============================] - 1146s 51ms/step - loss: 0.0229 - acc: 0.9927 - val_loss: 0.9646 - val_acc: 0.8120\n",
            "Epoch 22/40\n",
            "22500/22500 [==============================] - 1146s 51ms/step - loss: 0.0244 - acc: 0.9926 - val_loss: 0.7215 - val_acc: 0.8468\n",
            "Epoch 23/40\n",
            "22500/22500 [==============================] - 1150s 51ms/step - loss: 0.0243 - acc: 0.9928 - val_loss: 1.1383 - val_acc: 0.8064\n",
            "Epoch 24/40\n",
            "22500/22500 [==============================] - 1155s 51ms/step - loss: 0.0245 - acc: 0.9925 - val_loss: 0.8431 - val_acc: 0.8332\n",
            "Epoch 25/40\n",
            "22500/22500 [==============================] - 1154s 51ms/step - loss: 0.0190 - acc: 0.9935 - val_loss: 0.9783 - val_acc: 0.8340\n",
            "Epoch 26/40\n",
            "22500/22500 [==============================] - 1155s 51ms/step - loss: 0.0178 - acc: 0.9940 - val_loss: 0.8934 - val_acc: 0.8484\n",
            "Epoch 27/40\n",
            "22500/22500 [==============================] - 1154s 51ms/step - loss: 0.0089 - acc: 0.9968 - val_loss: 1.0984 - val_acc: 0.8356\n",
            "Epoch 28/40\n",
            "22500/22500 [==============================] - 1147s 51ms/step - loss: 0.0100 - acc: 0.9967 - val_loss: 1.2387 - val_acc: 0.8132\n",
            "Epoch 29/40\n",
            "  150/22500 [..............................] - ETA: 18:36 - loss: 0.0101 - acc: 0.9933"
          ],
          "name": "stdout"
        }
      ]
    },
    {
      "cell_type": "markdown",
      "metadata": {
        "id": "Sg14z-ZAevWx",
        "colab_type": "text"
      },
      "source": [
        "**Visualize the Accuracy and the loss**"
      ]
    },
    {
      "cell_type": "code",
      "metadata": {
        "id": "Z82blxTqe-GP",
        "colab_type": "code",
        "colab": {}
      },
      "source": [
        "def plot_history(history):\n",
        "    loss_list = [s for s in history.history.keys() if 'loss' in s and 'val' not in s]\n",
        "    val_loss_list = [s for s in history.history.keys() if 'loss' in s and 'val' in s]\n",
        "    acc_list = [s for s in history.history.keys() if 'acc' in s and 'val' not in s]\n",
        "    val_acc_list = [s for s in history.history.keys() if 'acc' in s and 'val' in s]\n",
        "\n",
        "    if len(loss_list) == 0:\n",
        "        print('Loss is missing in history')\n",
        "        return\n",
        "\n",
        "        ## As loss always exists\n",
        "    epochs = range(1, len(history.history[loss_list[0]]) + 1)\n",
        "\n",
        "    ## Loss\n",
        "    plt.figure(1)\n",
        "    for l in loss_list:\n",
        "        plt.plot(epochs, history.history[l], 'b',\n",
        "                 label='Training loss (' + str(str(format(history.history[l][-1], '.5f')) + ')'))\n",
        "    for l in val_loss_list:\n",
        "        plt.plot(epochs, history.history[l], 'g',\n",
        "                 label='Validation loss (' + str(str(format(history.history[l][-1], '.5f')) + ')'))\n",
        "\n",
        "    plt.title('Loss')\n",
        "    plt.xlabel('Epochs')\n",
        "    plt.ylabel('Loss')\n",
        "    plt.legend()\n",
        "\n",
        "    ## Accuracy\n",
        "    plt.figure(2)\n",
        "    for l in acc_list:\n",
        "        plt.plot(epochs, history.history[l], 'b',\n",
        "                 label='Training accuracy (' + str(format(history.history[l][-1], '.5f')) + ')')\n",
        "    for l in val_acc_list:\n",
        "        plt.plot(epochs, history.history[l], 'g',\n",
        "                 label='Validation accuracy (' + str(format(history.history[l][-1], '.5f')) + ')')\n",
        "\n",
        "    plt.title('Accuracy')\n",
        "    plt.xlabel('Epochs')\n",
        "    plt.ylabel('Accuracy')\n",
        "    plt.legend()\n",
        "    plt.savefig('accuracy.png', bbox_inches='tight')\n",
        "    \n",
        "plot_history(history)"
      ],
      "execution_count": null,
      "outputs": []
    },
    {
      "cell_type": "markdown",
      "metadata": {
        "id": "Nt3ziAqvfKU2",
        "colab_type": "text"
      },
      "source": [
        ""
      ]
    }
  ]
}